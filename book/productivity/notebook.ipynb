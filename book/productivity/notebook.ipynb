{
 "cells": [
  {
   "cell_type": "markdown",
   "metadata": {},
   "source": [
    "# Calculating the productivity for animals under the ontogenetic model\n",
    "\n",
    "\n",
    "On an earlier [post](https://thefuturewithoutanimalproducts.com/2018/05/01/animals-by-the-numbers-2-productivity/), I calculated the maximum growth rate for animals using the ontogenetic models. However, to be consistent with the [calculation for the yield](../yield/notebook.ipynb) used in the book, it'd be good to do the weighted average growth rate instead.\n",
    "\n",
    "First start with the typical growth equation for microbes, whose maintenance requirements are generally assumed to be so small that a simple exponential equation does the trick:\n",
    "\n",
    "$$\\frac{dm}{dt}=\\mu m$$\n",
    "\n",
    "When discussing growth rates of microbes, we typically refer to this $\\mu$ value. If we were to derive as the average growth rate (which is trivial because it's constant), we could could normalize the equation above (divide by $m$) and take the weighted average of that over the development, which simply evaluates to $\\mu$.\n",
    "\n",
    "Let's take this approach to the animal ontogenetic model. Start with the equation for the change in mass over time:\n",
    "\n",
    "$$\\frac{dm}{dt}=a m^{3/4} \\left[ 1 - \\left(\\frac{m}{M}\\right)^{1/4} \\right]$$\n",
    "\n",
    "Divide (normalized) by $m$:\n",
    "\n",
    "$$\\frac{d\\overline{m}}{dt}=a \\left[ \\left(\\frac{1}{m}\\right)^{1/4} - \\left(\\frac{1}{M}\\right)^{1/4} \\right]$$\n",
    "\n",
    "Substitute our equation for m over time (can used normalized time $\\tau$):\n",
    "\n",
    "$$m(\\tau) = M \\left( 1 - e^{-\\tau} \\right)^4 $$\n",
    "\n",
    "$$\\frac{d\\overline{m}}{dt}=\\frac{a}{M^{1/4}} \\left[ \\left(\\frac{1}{ 1 - e^{-\\tau} }\\right) - 1 \\right]$$\n",
    "\n",
    "Now we must take the weighted average over the development of the animal as we did for the [yield](../yield/notebook.ipynb). There is a singularity at $\\tau=0$, so we'll start from 0.1 (and seems consistent with West et al. 2001):\n",
    "\n",
    "$$ \\overline{\\mu}(\\tau) = \\frac{\\int_{0.1}^{\\tau} M \\left( 1 - e^{-\\tau} \\right)^4 \\frac{d\\overline{m}}{dt} d\\tau}{\\int_{0.1}^{\\tau} M \\left( 1 - e^{-\\tau} \\right)^4 d\\tau} $$"
   ]
  },
  {
   "cell_type": "code",
   "execution_count": 1,
   "metadata": {},
   "outputs": [
    {
     "data": {
      "text/plain": [
       "72"
      ]
     },
     "execution_count": 1,
     "metadata": {},
     "output_type": "execute_result"
    }
   ],
   "source": [
    "3*24"
   ]
  },
  {
   "cell_type": "code",
   "execution_count": null,
   "metadata": {},
   "outputs": [],
   "source": []
  }
 ],
 "metadata": {
  "kernelspec": {
   "display_name": "Python 3",
   "language": "python",
   "name": "python3"
  },
  "language_info": {
   "codemirror_mode": {
    "name": "ipython",
    "version": 3
   },
   "file_extension": ".py",
   "mimetype": "text/x-python",
   "name": "python",
   "nbconvert_exporter": "python",
   "pygments_lexer": "ipython3",
   "version": "3.7.4"
  }
 },
 "nbformat": 4,
 "nbformat_minor": 2
}
