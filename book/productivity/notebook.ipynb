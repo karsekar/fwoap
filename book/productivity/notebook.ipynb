{
 "cells": [
  {
   "cell_type": "markdown",
   "metadata": {},
   "source": [
    "# Calculating the productivity for animals under the ontogenetic model\n",
    "\n",
    "\n",
    "On an earlier [post](https://thefuturewithoutanimalproducts.com/2018/05/01/animals-by-the-numbers-2-productivity/), I calculated the maximum growth rate for animals using the ontogenetic models. However, to be consistent with the [calculation for the yield](../yield/notebook.ipynb) used in the book, it'd be good to do the weighted average growth rate instead.\n",
    "\n",
    "First start with the typical growth equation for microbes, whose maintenance requirements are generally assumed to be so small that a simple exponential equation does the trick:\n",
    "\n",
    "$$\\frac{dm}{dt}=\\mu m$$\n",
    "\n",
    "When discussing growth rates of microbes, we typically refer to this $\\mu$ value. If we were to derive as the average growth rate (which is trivial because it's constant), we could could normalize the equation above (divide by $m$) and take the weighted average of that over the development, which simply evaluates to $\\mu$.\n",
    "\n",
    "Let's take this approach to the animal ontogenetic model. Start with the equation for the change in mass over time from West et al. 2001:\n",
    "\n",
    "$$\\frac{dm}{dt}=a m^{3/4} \\left[ 1 - \\left(\\frac{m}{M}\\right)^{1/4} \\right]$$\n",
    "\n",
    "Divide (normalized) by $m$:\n",
    "\n",
    "$$\\frac{d\\overline{m}}{dt}=a \\left[ \\left(\\frac{1}{m}\\right)^{1/4} - \\left(\\frac{1}{M}\\right)^{1/4} \\right]$$\n",
    "\n",
    "Substitute our equation for m over time (can used normalized time $\\tau$):\n",
    "\n",
    "$$m(\\tau) = M \\left( 1 - e^{-\\tau} \\right)^4 $$\n",
    "\n",
    "$$\\frac{d\\overline{m}}{dt}=\\frac{a}{M^{1/4}} \\left[ \\left(\\frac{1}{ 1 - e^{-\\tau} }\\right) - 1 \\right]$$\n",
    "\n",
    "Now we must take the weighted average over the development of the animal as we did for the [yield](../yield/notebook.ipynb).\n",
    "\n",
    "$$ \\overline{\\mu}(\\tau) = \\frac{\\int_{0}^{\\tau} M \\left( 1 - e^{-\\tau} \\right)^4 \\frac{d\\overline{m}}{dt} d\\tau}{\\int_{0}^{\\tau} M \\left( 1 - e^{-\\tau} \\right)^4 d\\tau} $$\n",
    "\n",
    "\n",
    "$$ \\overline{\\mu}(\\tau) = \\frac{a}{M^{1/4}} \\frac{\\int_{0}^{\\tau}  \\left[  \\left( 1 - e^{-\\tau} \\right)^3 -  \\left( 1 - e^{-\\tau} \\right)^4 \\right] d\\tau}{\\int_{0}^{\\tau}  \\left( 1 - e^{-\\tau} \\right)^4 d\\tau} $$\n",
    "\n",
    "We can plug in $\\tau=3$ and evaluate to obtain our average growth rate for an animal from birth until maturity (slaughter) weight:\n",
    "\n",
    "$$ \\overline{\\mu}(3) \\approx (0.18 \\text{ per day}) \\frac{a}{M^{1/4}} $$"
   ]
  },
  {
   "cell_type": "code",
   "execution_count": 10,
   "metadata": {},
   "outputs": [
    {
     "name": "stdout",
     "output_type": "stream",
     "text": [
      "0.18385342405840296\n",
      "0.00766055933576679\n"
     ]
    }
   ],
   "source": [
    "import scipy.integrate as integrate\n",
    "import numpy as np\n",
    "\n",
    "#define our maturity time\n",
    "maturityTime=3\n",
    "\n",
    "#beause of the annoying way that integrate.quad works, we need to split the integrations\n",
    "resultNumerator = integrate.quad(lambda t: np.power((1-np.exp(-t)),3) - np.power((1-np.exp(-t)),4), 0, maturityTime)[0]\n",
    "resultDenominator = integrate.quad(lambda t: np.power((1-np.exp(-t)),4), 0, maturityTime)[0]\n",
    "constant=resultNumerator/resultDenominator\n",
    "\n",
    "#calculate our final result\n",
    "print(constant)\n",
    "\n",
    "#divide by 24, converting to per hour\n",
    "print(constant/24)"
   ]
  },
  {
   "cell_type": "markdown",
   "metadata": {},
   "source": [
    "The above equation has units of per day. In order to compare to microorganisms, we convert to per hour, so we divide by 24:\n",
    "\n",
    "$$ \\overline{\\mu} \\approx (0.0077 \\text{ per hour}) \\frac{a}{M^{1/4}} $$\n",
    "\n",
    "Now we calculate for various animals:"
   ]
  },
  {
   "cell_type": "code",
   "execution_count": 8,
   "metadata": {},
   "outputs": [
    {
     "name": "stdout",
     "output_type": "stream",
     "text": [
      "cow: 8.24222071053747e-05 per hour\n",
      "hen: 0.0005346059148102572 per hour\n",
      "salmon: 2.860297870128498e-05 per hour\n",
      "shrimp: 0.00039727311299857574 per hour\n"
     ]
    }
   ],
   "source": [
    "def findAverageGrowthRate( a, M):\n",
    "    gr = 0.0077 *a /np.power(M,1/4)\n",
    "    return gr\n",
    "\n",
    "animals = { \"cow\": \n",
    "               {\n",
    "                   \"a\": 0.276,\n",
    "                    \"M\": 442000,\n",
    "                    \"m0\": 33333\n",
    "                   },\n",
    "           \"hen\":\n",
    "               {\n",
    "                   \"a\": 0.47,\n",
    "                   \"m0\": 43,\n",
    "                   \"M\": 2100\n",
    "               },\n",
    "           \"salmon\":\n",
    "               {\n",
    "                   \"a\": 0.026,\n",
    "                   \"m0\": 0.01,\n",
    "                   \"M\": 2400\n",
    "               },\n",
    "           \"shrimp\":\n",
    "               {\n",
    "                   \"a\": 0.027,\n",
    "                   \"m0\": 0.0008,\n",
    "                   \"M\": 0.075\n",
    "               }\n",
    "}\n",
    "\n",
    "for animal in animals.keys():\n",
    "    print(animal + \": \" + str(findAverageGrowthRate(animals[animal][\"a\"] ,animals[animal][\"M\"] )) + \" per hour\")"
   ]
  },
  {
   "cell_type": "markdown",
   "metadata": {},
   "source": [
    "I also tabulated growth rates from various kingdoms (e.g bacteria). Summary information is shown:"
   ]
  },
  {
   "cell_type": "code",
   "execution_count": 9,
   "metadata": {},
   "outputs": [
    {
     "data": {
      "text/html": [
       "<div>\n",
       "<style scoped>\n",
       "    .dataframe tbody tr th:only-of-type {\n",
       "        vertical-align: middle;\n",
       "    }\n",
       "\n",
       "    .dataframe tbody tr th {\n",
       "        vertical-align: top;\n",
       "    }\n",
       "\n",
       "    .dataframe thead th {\n",
       "        text-align: right;\n",
       "    }\n",
       "</style>\n",
       "<table border=\"1\" class=\"dataframe\">\n",
       "  <thead>\n",
       "    <tr style=\"text-align: right;\">\n",
       "      <th></th>\n",
       "      <th>Organism</th>\n",
       "      <th>Growth Rate (1/h)</th>\n",
       "      <th>Reference</th>\n",
       "    </tr>\n",
       "    <tr>\n",
       "      <th>Short Name</th>\n",
       "      <th></th>\n",
       "      <th></th>\n",
       "      <th></th>\n",
       "    </tr>\n",
       "  </thead>\n",
       "  <tbody>\n",
       "    <tr>\n",
       "      <td>bacteria</td>\n",
       "      <td>Fast growing bacteria (e.g. E. coli)</td>\n",
       "      <td>1.000000</td>\n",
       "      <td>http://bionumbers.hms.harvard.edu/bionumber.as...</td>\n",
       "    </tr>\n",
       "    <tr>\n",
       "      <td>yeast</td>\n",
       "      <td>Yeast</td>\n",
       "      <td>0.300000</td>\n",
       "      <td>http://bionumbers.hms.harvard.edu/bionumber.as...</td>\n",
       "    </tr>\n",
       "    <tr>\n",
       "      <td>in vitro meat</td>\n",
       "      <td>Mammalian cells in vitro</td>\n",
       "      <td>0.030000</td>\n",
       "      <td>http://bionumbers.hms.harvard.edu/bionumber.as...</td>\n",
       "    </tr>\n",
       "    <tr>\n",
       "      <td>leafy</td>\n",
       "      <td>Plants (Arabidopsis - cabbage, mustard)</td>\n",
       "      <td>0.008333</td>\n",
       "      <td>http://bionumbers.hms.harvard.edu/bionumber.as...</td>\n",
       "    </tr>\n",
       "    <tr>\n",
       "      <td>chestnut</td>\n",
       "      <td>Chestnut tree</td>\n",
       "      <td>0.000029</td>\n",
       "      <td>http://www.chestnuthilloutdoors.com/store/pg/9...</td>\n",
       "    </tr>\n",
       "    <tr>\n",
       "      <td>almond</td>\n",
       "      <td>Almond tree</td>\n",
       "      <td>0.000019</td>\n",
       "      <td>http://homeguides.sfgate.com/almond-tree-growt...</td>\n",
       "    </tr>\n",
       "  </tbody>\n",
       "</table>\n",
       "</div>"
      ],
      "text/plain": [
       "                                              Organism  Growth Rate (1/h)  \\\n",
       "Short Name                                                                  \n",
       "bacteria          Fast growing bacteria (e.g. E. coli)           1.000000   \n",
       "yeast                                            Yeast           0.300000   \n",
       "in vitro meat                Mammalian cells in vitro            0.030000   \n",
       "leafy          Plants (Arabidopsis - cabbage, mustard)           0.008333   \n",
       "chestnut                                 Chestnut tree           0.000029   \n",
       "almond                                     Almond tree           0.000019   \n",
       "\n",
       "                                                       Reference  \n",
       "Short Name                                                        \n",
       "bacteria       http://bionumbers.hms.harvard.edu/bionumber.as...  \n",
       "yeast          http://bionumbers.hms.harvard.edu/bionumber.as...  \n",
       "in vitro meat  http://bionumbers.hms.harvard.edu/bionumber.as...  \n",
       "leafy          http://bionumbers.hms.harvard.edu/bionumber.as...  \n",
       "chestnut       http://www.chestnuthilloutdoors.com/store/pg/9...  \n",
       "almond         http://homeguides.sfgate.com/almond-tree-growt...  "
      ]
     },
     "metadata": {},
     "output_type": "display_data"
    }
   ],
   "source": [
    "import pandas as pd\n",
    "from IPython.display import display, HTML\n",
    "\n",
    "xl = pd.ExcelFile(\"../../animalnumbers2/growthrates.xlsx\")\n",
    "df = xl.parse(\"Sheet1\",index_col=0)\n",
    "display(df)"
   ]
  },
  {
   "cell_type": "markdown",
   "metadata": {},
   "source": [
    "Finally, we generate a figure to illustrate the differences in growth rate. We plot the y scale log because otherwise, our values would be too squished."
   ]
  },
  {
   "cell_type": "code",
   "execution_count": 26,
   "metadata": {},
   "outputs": [
    {
     "data": {
      "image/png": "[encoded data removed]",
      "text/plain": [
       "<Figure size 432x288 with 1 Axes>"
      ]
     },
     "metadata": {
      "needs_background": "light"
     },
     "output_type": "display_data"
    }
   ],
   "source": [
    "import matplotlib.pyplot as plt\n",
    "\n",
    "all_gr = {}\n",
    "for index, row in df.iterrows():\n",
    "    all_gr[index] = {\n",
    "        'growthrate': row['Growth Rate (1/h)'],\n",
    "        'description': row['Organism']\n",
    "    }\n",
    "\n",
    "for animal in animals.keys():\n",
    "    all_gr[animal] = {\n",
    "        'growthrate': findMaxGR(animals[animal][\"a\"] ,animals[animal][\"M\"] ),\n",
    "        'description': 'Animal flesh'\n",
    "    }\n",
    "\n",
    "\n",
    "y = []\n",
    "labels = []\n",
    "\n",
    "for item in all_gr.keys():\n",
    "    labels.append(item)\n",
    "    y.append(all_gr[item]['growthrate'])\n",
    "\n",
    "fig, ax = plt.subplots()\n",
    "plt.bar(np.arange(len(y)), y)\n",
    "\n",
    "ax.set_yscale('log')\n",
    "plt.xticks(np.arange(len(y)), labels, rotation='vertical')\n",
    "\n",
    "plt.margins(0.2)\n",
    "plt.ylabel('Biomass productivity (growth rate) (1/h)')\n",
    "#plt.show()\n",
    "plt.savefig('growthrates.svg')"
   ]
  },
  {
   "cell_type": "code",
   "execution_count": null,
   "metadata": {},
   "outputs": [],
   "source": []
  }
 ],
 "metadata": {
  "kernelspec": {
   "display_name": "Python 3",
   "language": "python",
   "name": "python3"
  },
  "language_info": {
   "codemirror_mode": {
    "name": "ipython",
    "version": 3
   },
   "file_extension": ".py",
   "mimetype": "text/x-python",
   "name": "python",
   "nbconvert_exporter": "python",
   "pygments_lexer": "ipython3",
   "version": "3.7.4"
  }
 },
 "nbformat": 4,
 "nbformat_minor": 2
}
