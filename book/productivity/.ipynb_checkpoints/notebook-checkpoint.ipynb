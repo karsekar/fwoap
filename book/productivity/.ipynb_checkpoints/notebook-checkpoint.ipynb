{
 "cells": [
  {
   "cell_type": "markdown",
   "metadata": {},
   "source": [
    "# Calculating the productivity for animals under the ontogenetic model\n",
    "\n",
    "\n",
    "On an earlier [post](https://thefuturewithoutanimalproducts.com/2018/05/01/animals-by-the-numbers-2-productivity/), I calculated the maximum growth rate for animals using the ontogenetic models. However, to be consistent with the [calculation for the yield](../yield/notebook.ipynb) used in the book, it'd be good to do the weighted average growth rate instead."
   ]
  },
  {
   "cell_type": "code",
   "execution_count": null,
   "metadata": {},
   "outputs": [],
   "source": []
  }
 ],
 "metadata": {
  "kernelspec": {
   "display_name": "Python 3",
   "language": "python",
   "name": "python3"
  },
  "language_info": {
   "codemirror_mode": {
    "name": "ipython",
    "version": 3
   },
   "file_extension": ".py",
   "mimetype": "text/x-python",
   "name": "python",
   "nbconvert_exporter": "python",
   "pygments_lexer": "ipython3",
   "version": "3.7.4"
  }
 },
 "nbformat": 4,
 "nbformat_minor": 2
}
