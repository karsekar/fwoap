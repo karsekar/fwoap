{
 "cells": [
  {
   "cell_type": "markdown",
   "metadata": {},
   "source": [
    "# Calculating maturation times for different biological organisms\n",
    "\n",
    "\n",
    "## Introduction\n",
    "\n",
    "Here, we're calculating the normalized maturation time for different organisms. These calculations rely heavily on the model presented in G. B. West, J. H. Brown, and B. J. Enquist, ‘A General Model for Ontogenetic Growth’, Nature, 413.6856 (2001), 628–31\n",
    "\n",
    "In Figure 2, the authors present the universal growth curve showing development for many animals proceeds along a similar trajectory, and this trajectory collapses to the same when accounting for parameters such as birth mass, maturation mass, and $a$ (the ratio of energy required to maintain a cell versus create a new one).\n",
    "\n",
    "Let's assume that 95% of the maturation time is the developed for all the species. We can use the universal growth law presented in figure 2 to calculate the dimensionless development time, $\\tau$.\n",
    "\n",
    "$r = 1 - e^{-\\tau}$\n",
    "\n",
    "$0.95 = 1 - e^{-\\tau} \\rightarrow \\tau \\approx 3$\n",
    "\n",
    "As presented in the manuscript, is calculable from the our parameters as follows:\n",
    "\n",
    "$\\tau = \\frac{at}{4 M^{1/4}}-\\ln \\left[ 1- \\left( \\frac{m_0}{M} \\right)^{1/4} \\right]$\n",
    "\n",
    "Plug in our value for 3 for $\\tau$ and figure out the maturation time, $t_m$ for different organisms\n"
   ]
  },
  {
   "cell_type": "code",
   "execution_count": 23,
   "metadata": {},
   "outputs": [
    {
     "name": "stdout",
     "output_type": "stream",
     "text": [
      "{   'Atlantic Cod': {   'mass': array([ 908.9489431,  836.2956457, 1329.14343  , 1122.475802 ,\n",
      "       1750.552731 , 1750.552731 , 2582.96509  , 3134.099678 ,\n",
      "       4102.955528 , 3233.107335 , 5398.212079 , 5985.896624 ,\n",
      "       6454.179186 , 5985.896624 ]),\n",
      "                        'time': array([1460. , 1460. , 1825. , 1825. , 2190. , 2190. , 2482. , 2445.5,\n",
      "       2737.5, 2847. , 3285. , 3285. , 3540.5, 3540.5])},\n",
      "    'Cow': {   'mass': array([ 33333.3333,  41666.6667,  54166.6667,  75000.    , 108333.333 ,\n",
      "       133333.333 , 158333.333 , 191666.667 , 216666.667 , 233333.333 ,\n",
      "       283333.333 , 300000.    , 333333.333 , 358333.333 , 366666.667 ,\n",
      "       395833.333 , 404166.667 , 416666.667 , 433333.333 , 441666.667 ,\n",
      "       441666.667 ]),\n",
      "               'time': array([   0.,   60.,   90.,  120.,  180.,  210.,  240.,  300.,  390.,\n",
      "        420.,  570.,  600.,  690.,  900., 1050., 1290., 1350., 1650.,\n",
      "       2010., 2250., 2400.])},\n",
      "    'Domestic Pig': {   'mass': array([  5000.,  10000.,  15000.,  20000.,  25000.,  50000.,  75000.,\n",
      "       100000., 125000., 150000., 175000., 200000., 225000., 250000.]),\n",
      "                        'time': array([ 45.,  99., 129., 150., 159., 219., 282., 330., 390., 435., 540.,\n",
      "       630., 690., 750.])},\n",
      "    'Domestic Rabbit': {   'mass': array([ 304.021448,  420.911528,  536.729222,  752.27882 ,  963.538874,\n",
      "       1123.86059 , 1236.99732 , 1262.73458 , 1269.1689  , 1313.67292 ,\n",
      "       1315.2815  , 1327.61394 , 1334.58445 ]),\n",
      "                           'time': array([ 26.2434783,  38.2956522,  57.1826087,  88.4347826, 118.852174 ,\n",
      "       149.217391 , 179.008696 , 209.686957 , 239.269565 , 271.46087  ,\n",
      "       302.191304 , 330.       , 358.382609 ])},\n",
      "    'Guinea Pig': {   'mass': array([ 67.5,  72. ,  73.5,  90. ,  90. , 111. , 120. , 126. , 150. ,\n",
      "       180. , 210. , 219. , 240. , 270. , 300. , 330. , 390. , 420. ,\n",
      "       450. , 480. , 510. , 534. , 570. , 630. , 690. , 720. , 780. ]),\n",
      "                      'time': array([ 66.6666668, 100.       , 133.333334 , 150.       , 191.666667 ,\n",
      "       233.333334 , 308.333334 , 350.000001 , 400.000001 , 500.000001 ,\n",
      "       525.000001 , 566.666668 , 616.666668 , 666.666668 , 683.333335 ,\n",
      "       725.000002 , 766.666668 , 783.333335 , 800.000002 , 808.333335 ,\n",
      "       816.666668 , 821.666668 , 825.000002 , 825.000002 , 833.333335 ,\n",
      "       833.333335 , 850.000002 ])},\n",
      "    'Guppy': {   'mass': array([0.01 , 0.015, 0.03 , 0.05 , 0.07 , 0.085, 0.11 , 0.115, 0.125,\n",
      "       0.135, 0.145, 0.135, 0.14 , 0.135]),\n",
      "                 'time': array([ 0. ,  7. , 14. , 21. , 28. , 35. , 42. , 49. , 56. , 63. , 70. ,\n",
      "       73.5, 87.5, 84. ])},\n",
      "    'Hen': {   'mass': array([  43.,   54.,   91.,  152.,  216.,  299.,  351.,  392.,  679.,\n",
      "       1152., 1602., 1724., 1784., 1925., 2126., 2054., 1878., 1931.,\n",
      "       2260.]),\n",
      "               'time': array([  0.,   3.,   6.,   9.,  12.,  15.,  18.,  21.,  60.,  90., 120.,\n",
      "       150., 180., 210., 240., 270., 300., 330., 360.])},\n",
      "    'Heron': {   'mass': array([  45.,   85.,  125.,  210.,  300.,  485.,  570.,  700.,  830.,\n",
      "        940., 1030., 1120.]),\n",
      "                 'time': array([ 5.,  7.,  9., 11., 13., 15., 17., 19., 21., 23., 25., 27.])},\n",
      "    'Rat': {   'mass': array([  8.,  22.,  40.,  57.,  74.,  90., 105., 120., 135., 150., 177.,\n",
      "       195., 210., 220., 240., 250., 280.]),\n",
      "               'time': array([  0.,  20.,  40.,  50.,  60.,  65.,  73.,  80.,  85.,  90., 110.,\n",
      "       120., 140., 155., 180., 210., 370.])},\n",
      "    'Robin': {   'mass': array([ 2.4,  4. ,  5.8,  7.8,  8.8, 11.4, 13.2, 15.8, 16.8, 18. , 18.4,\n",
      "       18.3]),\n",
      "                 'time': array([ 1.,  2.,  3.,  4.,  5.,  6.,  7.,  8.,  9., 10., 11., 12.])},\n",
      "    'Salmon': {   'mass': array([9.7837838e-02, 4.6000000e-01, 4.5800000e-01, 7.8600000e-01,\n",
      "       9.8400000e-01, 2.0900000e+00, 3.1930000e+00, 6.8710000e+00,\n",
      "       1.1959000e+01, 1.9042000e+01, 2.6299000e+01, 4.0865000e+01,\n",
      "       5.6690000e+01, 5.9355000e+01, 8.1037000e+01, 9.4996000e+01,\n",
      "       9.8772000e+01, 9.8696000e+01, 1.1539200e+02, 1.3663900e+02,\n",
      "       1.3015700e+02, 1.3826100e+02, 1.6108500e+02, 1.3838000e+02]),\n",
      "                  'time': array([   0.,   60.,   90.,  120.,  150.,  180.,  210.,  420.,  450.,\n",
      "        480.,  510.,  540.,  570.,  780.,  810.,  840.,  870.,  900.,\n",
      "        930., 1140., 1170., 1200., 1230., 1260.])},\n",
      "    'Shrew': {   'mass': array([0.3 , 0.5 , 0.8 , 1.1 , 1.6 , 2.1 , 2.4 , 3.  , 3.4 , 3.3 , 3.2 ,\n",
      "       3.55]),\n",
      "                 'time': array([ 0.,  2.,  3.,  4.,  6.,  8.,  9., 11., 13., 14., 16., 19.])},\n",
      "    'Shrimp': {   'mass': array([0.001 , 0.005 , 0.0175, 0.037 , 0.06  , 0.067 , 0.07  ]),\n",
      "                  'time': array([  3.,  60.,  90., 120., 150., 180., 384.])}}\n"
     ]
    }
   ],
   "source": [
    "#load the data from the excel file\n",
    "\n",
    "import pandas as pd\n",
    "import numpy as np\n",
    "import pprint\n",
    "\n",
    "trajectories=pd.read_excel(\"trajectories.xls\")\n",
    "\n",
    "#separate the trajectories by the study number\n",
    "studyNumbers = np.unique(np.array(trajectories[['Study Number']]).flatten())\n",
    "\n",
    "studyDictionary = {}\n",
    "\n",
    "#define the animal for each\n",
    "animalNames ={\n",
    "    1:\"Guppy\",\n",
    "    2:\"Heron\", \n",
    "    3:\"Hen\",\n",
    "    4:\"Salmon\",\n",
    "    5:\"Rat\",\n",
    "    6:\"Atlantic Cod\",\n",
    "    7:\"Robin\",\n",
    "    8:\"Shrew\",\n",
    "    9:\"Guinea Pig\",\n",
    "    10:\"Domestic Rabbit\",\n",
    "    11:\"Domestic Pig\",\n",
    "    12:\"Cow\",\n",
    "    13:\"Shrimp\"\n",
    "}\n",
    "\n",
    "#loop through each study number and populate the trajectory\n",
    "for i in studyNumbers:\n",
    "    query =trajectories['Study Number']==i\n",
    "    times=np.array(trajectories['Time'][(query)])\n",
    "    masses=np.array(trajectories['Mass (g)'][(query)])\n",
    "    studyDictionary[animalNames[i]]={\"time\": times, \"mass\": masses}\n",
    "    \n",
    "pp = pprint.PrettyPrinter(indent=4)\n",
    "pp.pprint(studyDictionary)\n",
    "    "
   ]
  },
  {
   "cell_type": "code",
   "execution_count": 49,
   "metadata": {},
   "outputs": [
    {
     "name": "stdout",
     "output_type": "stream",
     "text": [
      "[0.13888889 0.17361111 0.20833333 0.24305556 0.27777778 0.3125\n",
      " 0.34722222 0.38194444 0.41666667 0.45138889 0.48611111 0.52083333]\n"
     ]
    },
    {
     "data": {
      "text/plain": [
       "<matplotlib.legend.Legend at 0x25e16de2ac8>"
      ]
     },
     "execution_count": 49,
     "metadata": {},
     "output_type": "execute_result"
    },
    {
     "data": {
      "image/png": "[encoded data removed]",
      "text/plain": [
       "<Figure size 432x288 with 1 Axes>"
      ]
     },
     "metadata": {
      "needs_background": "light"
     },
     "output_type": "display_data"
    }
   ],
   "source": [
    "#plot the trajectories\n",
    "import matplotlib.pyplot as plt\n",
    "\n",
    "#define the fitted parameters from West et al. 2001\n",
    "fittedParameters = { \"Cow\": \n",
    "               {\n",
    "                   \"a\": 0.276,\n",
    "                    \"M\": 442000,\n",
    "                    \"m0\": 33333\n",
    "                   },\n",
    "           \"Hen\":\n",
    "               {\n",
    "                   \"a\": 0.47,\n",
    "                   \"m0\": 43,\n",
    "                   \"M\": 2100\n",
    "               }\n",
    "}\n",
    "\n",
    "\n",
    "#define the trajectories that we wish to plot\n",
    "trajectoriesOfInterest=fittedParameters.keys()\n",
    "\n",
    "for i in trajectoriesOfInterest:\n",
    "    plt.plot(studyDictionary[i]['time'], studyDictionary[i]['mass'] / fittedParameters[i]['M'],'o',label=i)\n",
    "    \n",
    "#make the trajectory for yeast\n",
    "# yeast has a growth rate of 0.3 1/h per http://bionumbers.hms.harvard.edu/bionumber.aspx?&id=107949\n",
    "yeastGrowthRate=0.3 #units 1/h\n",
    "\n",
    "#we should use the same fold increase as done with the others. let's take the highest\n",
    "maxFoldChange = np.max([item[\"M\"]/item[\"m0\"] for item in fittedParameters.values()])\n",
    "\n",
    "#change to log space and make an array to \n",
    "logFoldRange=np.arange(1,np.log(maxFoldChange),0.25)\n",
    "\n",
    "#we can now calculate the time change by dividing by the growth rate\n",
    "timeYeast=logFoldRange/yeastGrowthRate *1/24 #change the units to days\n",
    "\n",
    "\n",
    "\n",
    "plt.ylabel('Mass of organism')\n",
    "plt.xlabel('Time (days)')\n",
    "plt.legend()\n",
    "    "
   ]
  },
  {
   "cell_type": "code",
   "execution_count": 5,
   "metadata": {},
   "outputs": [],
   "source": [
    "import numpy as np\n",
    "\n",
    "#calculate the maturation time with tau = 3. Create a function first\n",
    "def findMaturationTime(m0, a, M):\n",
    "    time = (3+np.log(1-np.power(m0/M,0.25)))*4*np.power(M,0.25)/a\n",
    "    return time"
   ]
  },
  {
   "cell_type": "code",
   "execution_count": 6,
   "metadata": {},
   "outputs": [
    {
     "name": "stdout",
     "output_type": "stream",
     "text": [
      "[843.6261427785191, 145.45643637020206, 3180.6490725998137, 202.52923078753676]\n"
     ]
    }
   ],
   "source": [
    "#for animals\n",
    "\n",
    "#from A general model for ontogenetic growth\n",
    "\n",
    "animals = { \"cow\": \n",
    "               {\n",
    "                   \"a\": 0.276,\n",
    "                    \"M\": 442000,\n",
    "                    \"m0\": 33333\n",
    "                   },\n",
    "           \"hen\":\n",
    "               {\n",
    "                   \"a\": 0.47,\n",
    "                   \"m0\": 43,\n",
    "                   \"M\": 2100\n",
    "               },\n",
    "           \"salmon\":\n",
    "               {\n",
    "                   \"a\": 0.026,\n",
    "                   \"m0\": 0.01,\n",
    "                   \"M\": 2400\n",
    "               },\n",
    "           \"shrimp\":\n",
    "               {\n",
    "                   \"a\": 0.027,\n",
    "                   \"m0\": 0.0008,\n",
    "                   \"M\": 0.075\n",
    "               }\n",
    "}\n",
    "\n",
    "maturationTimes = {}\n",
    "maturationTimes[\"animals\"] = []\n",
    "\n",
    "for animal in animals.keys():\n",
    "    time = findMaturationTime(animals[animal][\"m0\"],animals[animal][\"a\"],animals[animal][\"M\"])\n",
    "    #print(animal + \": \" + str(time*b))\n",
    "    maturationTimes[\"animals\"].append(time)\n",
    "\n",
    "print(maturationTimes[\"animals\"])"
   ]
  },
  {
   "cell_type": "code",
   "execution_count": 53,
   "metadata": {},
   "outputs": [
    {
     "name": "stdout",
     "output_type": "stream",
     "text": [
      "[5.         1.53846154]\n"
     ]
    }
   ],
   "source": [
    "#for plants\n",
    "\n",
    "#from Carbon use efficiency depends on growth respiration, maintenance respiration, and relative growth rate. A case \n",
    "#study with lettuce. M. W. VAN IERSEL. Department of Horticulture, The University of Georgia, Athens, GA 30602, USA\n",
    "\n",
    "ratios[\"plants\"] = np.power(np.asarray([0.2, 0.65]),-1)\n",
    "\n",
    "print(ratios[\"plants\"])"
   ]
  },
  {
   "cell_type": "code",
   "execution_count": 54,
   "metadata": {},
   "outputs": [
    {
     "name": "stdout",
     "output_type": "stream",
     "text": [
      "[0.044320501967033514, 0.040834619789851104, 0.012636322892286242, 0.004558278628234392, 0.0036259034542773572, 0.09682875264270614, 0.14545454545454548, 0.024312896405919663, 0.09936575052854123, 0.08942917547568711, 0.08942917547568711, 0.021987315010570826, 0.1630021141649049, 0.0023678646934460887, 0.023044397463002114, 0.02177589852008457, 0.020380549682875265, 0.019006342494714588, 0.017272727272727273, 0.014947145877378436, 0.040380549682875265, 0.03213530655391121, 0.03213530655391121, 0.055391120507399576, 0.020338266384778016, 0.0331923890063425, 0.04947145877378436, 0.044820295983086685, 0.05412262156448203, 0.04312896405919662, 0.04101479915433404, 0.03911205073995772, 0.036786469344608885, 0.046723044397463005, 0.030866807610993658, 0.048202959830866816, 0.045243128964059194, 0.04334038054968287, 0.022621564482029597, 0.04143763213530655, 0.03911205073995772, 0.034883720930232565, 0.03340380549682875, 0.03530655391120508, 0.03572938689217759, 0.025581395348837212, 0.036786469344608885, 0.036786469344608885, 0.06997885835095138, 0.07505133470225873, 0.04804928131416838, 0.0723438222072848, 0.09578624543124815, 0.019577364197790197, 0.02184598580010923, 0.034533462168634205, 0.030080241986304247, 0.024366676469352606, 0.03319502074688797, 0.014246196403872754, 0.004821323201358605, 0.008395338907838367, 0.008755139146745727, 0.001993293323546767, 0.06740257808864518, 0.022283628129662413, 0.006164577426612744, 0.0031902287849785798, 0.008683179098964254, 0.03526042341292114, 0.04005775993168592, 0.04917269931733901, 0.0031935138130409105, 0.08704482808646452, 0.016200009671647562, 0.6077018553443913, 0.2974031626287538, 0.280477779389719, 0.29982107452004453, 0.2264777471508938, 0.2869255444331608, 0.02297016296726147, 0.025925925925925925, 0.01218965147348507, 0.015458333333333333, 0.028375, 0.027653815202282536, 0.023483795449557397, 0.2999487892311069, 0.016644295302013425, 0.05140939597315436, 0.09878787878787879, 0.021036144578313255, 0.163855421686747, 0.15903614457831328, 0.09542168674698796, 0.02602409638554217, 0.19253012048192772, 0.29638554216867474, 0.29156626506024097, 0.17349397590361446, 0.26746987951807233, 0.0468609865470852, 0.042152466367713005, 0.03542600896860986, 0.0789237668161435, 0.05605381165919283, 0.12197309417040358, 0.030402298850574716, 0.0810344827586207, 0.03704663212435233, 0.1319277108433735, 0.04142857142857143, 0.07959183673469389, 0.08128342245989305, 0.27096774193548384, 0.07650602409638553, 0.07228915662650602, 0.10903614457831326, 0.15481927710843374, 0.1497076023391813, 0.1018, 0.024878048780487803, 0.05292682926829268, 0.14829268292682926, 0.1663286004056795, 0.04623762376237624, 0.06244755244755244, 0.3125874125874126, 0.0839160839160839, 0.4167832167832167, 0.2841584158415842]\n"
     ]
    }
   ],
   "source": [
    "#for microbes\n",
    "\n",
    "#from Growth, metabwith open('eggs.csv', 'rb') as csvfile:\n",
    "import csv \n",
    "\n",
    "ratios[\"microbes\"] = []\n",
    "\n",
    "with open('microbes.csv', 'r') as csvfile:\n",
    "    spamreader = csv.reader(csvfile, delimiter=',')\n",
    "    for row in spamreader:\n",
    "        try:\n",
    "            ratio = float(row[8])/float(row[9]) #dividing b by the growth rate (effectively the inverse of maturation time)\n",
    "            ratios[\"microbes\"].append(ratio)\n",
    "        except ValueError:\n",
    "            continue\n",
    "\n",
    "print(ratios[\"microbes\"])"
   ]
  },
  {
   "cell_type": "code",
   "execution_count": 59,
   "metadata": {},
   "outputs": [
    {
     "name": "stdout",
     "output_type": "stream",
     "text": [
      "{'animals': [14.481906078958799, 17.266647510158123], 'plants': [1.5384615384615383, 5.0], 'microbes': [0.001993293323546767, 0.6077018553443913]}\n"
     ]
    }
   ],
   "source": [
    "#make the chart\n",
    "\n",
    "ranges = {key: [np.amin(item), np.amax(item)] for key,item in ratios.items()}\n",
    "print(ranges)\n",
    "\n"
   ]
  },
  {
   "cell_type": "code",
   "execution_count": 76,
   "metadata": {},
   "outputs": [
    {
     "name": "stderr",
     "output_type": "stream",
     "text": [
      "C:\\ProgramData\\Anaconda3\\lib\\site-packages\\matplotlib\\axes\\_base.py:1398: UserWarning: aspect is not supported for Axes with xscale=linear, yscale=log\n",
      "  'yscale=%s' % (xscale, yscale))\n"
     ]
    },
    {
     "data": {
      "image/png": "[encoded data removed]",
      "text/plain": [
       "<matplotlib.figure.Figure at 0x1617069e358>"
      ]
     },
     "metadata": {},
     "output_type": "display_data"
    }
   ],
   "source": [
    "import matplotlib.pyplot as plt\n",
    "import matplotlib.patches as patches\n",
    "\n",
    "fig1 = plt.figure()\n",
    "ax1 = fig1.add_subplot(111, aspect='equal')\n",
    "x=1\n",
    "for key,arange in ranges.items():\n",
    "    ax1.add_patch(\n",
    "        patches.Rectangle(\n",
    "            (x, arange[0]),   # (x,y)\n",
    "            0.5,          # width\n",
    "            arange[1]-arange[0],          # height\n",
    "        )\n",
    "    )\n",
    "    x=x+1\n",
    "\n",
    "ax1.set_xlim(0.5, 4)\n",
    "ax1.set_ylim(0.001, 20)\n",
    "ax1.set_yscale('log')\n",
    "plt.savefig('ratio.svg')\n",
    "plt.show(fig1)\n"
   ]
  },
  {
   "cell_type": "code",
   "execution_count": null,
   "metadata": {},
   "outputs": [],
   "source": []
  }
 ],
 "metadata": {
  "kernelspec": {
   "display_name": "Python 3",
   "language": "python",
   "name": "python3"
  },
  "language_info": {
   "codemirror_mode": {
    "name": "ipython",
    "version": 3
   },
   "file_extension": ".py",
   "mimetype": "text/x-python",
   "name": "python",
   "nbconvert_exporter": "python",
   "pygments_lexer": "ipython3",
   "version": "3.7.4"
  }
 },
 "nbformat": 4,
 "nbformat_minor": 2
}
