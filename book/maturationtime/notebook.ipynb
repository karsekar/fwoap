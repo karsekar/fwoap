{
 "cells": [
  {
   "cell_type": "markdown",
   "metadata": {},
   "source": [
    "# Calculating maturation times for different biological organisms\n",
    "\n",
    "\n",
    "## Introduction\n",
    "\n",
    "Here, we're calculating the normalized maturation time for different organisms. These calculations rely heavily on the model presented in G. B. West, J. H. Brown, and B. J. Enquist, ‘A General Model for Ontogenetic Growth’, Nature, 413.6856 (2001), 628–31\n",
    "\n",
    "In Figure 2, the authors present the universal growth curve showing development for many animals proceeds along a similar trajectory, and this trajectory collapses to the same when accounting for parameters such as birth mass, maturation mass, and $a$ (the ratio of energy required to maintain a cell versus create a new one).\n",
    "\n",
    "Let's assume that 95% of the maturation time is the developed for all the species. We can use the universal growth law presented in figure 2 to calculate the dimensionless maturity time, $\\tau_m$.\n",
    "\n",
    "$$r = 1 - e^{-\\tau}$$\n",
    "\n",
    "$$0.95 = 1 - e^{-\\tau} \\rightarrow \\tau_m \\approx 3$$\n",
    "\n",
    "As presented in the manuscript, is calculable from the our parameters as follows:\n",
    "\n",
    "$$\\tau = \\frac{at}{4 M^{1/4}}-\\ln \\left[ 1- \\left( \\frac{m_0}{M} \\right)^{1/4} \\right]$$\n",
    "\n",
    "Plug in our value for 3 for $\\tau$ and figure out the maturation time, $t_m$ for different organisms\n"
   ]
  },
  {
   "cell_type": "code",
   "execution_count": 1,
   "metadata": {},
   "outputs": [],
   "source": [
    "#load the data from the excel file\n",
    "\n",
    "import pandas as pd\n",
    "import numpy as np\n",
    "import pprint\n",
    "\n",
    "trajectories=pd.read_excel(\"trajectories.xls\")\n",
    "\n",
    "#separate the trajectories by the study number\n",
    "studyNumbers = np.unique(np.array(trajectories[['Study Number']]).flatten())\n",
    "\n",
    "studyDictionary = {}\n",
    "\n",
    "#define the animal for each\n",
    "animalNames ={\n",
    "    1:\"Guppy\",\n",
    "    2:\"Heron\", \n",
    "    3:\"Hen\",\n",
    "    4:\"Salmon\",\n",
    "    5:\"Rat\",\n",
    "    6:\"Atlantic Cod\",\n",
    "    7:\"Robin\",\n",
    "    8:\"Shrew\",\n",
    "    9:\"Guinea Pig\",\n",
    "    10:\"Domestic Rabbit\",\n",
    "    11:\"Domestic Pig\",\n",
    "    12:\"Cow\",\n",
    "    13:\"Shrimp\"\n",
    "}\n",
    "\n",
    "#loop through each study number and populate the trajectory\n",
    "for i in studyNumbers:\n",
    "    query =trajectories['Study Number']==i\n",
    "    times=np.array(trajectories['Time'][(query)])\n",
    "    masses=np.array(trajectories['Mass (g)'][(query)])\n",
    "    studyDictionary[animalNames[i]]={\"time\": times, \"mass\": masses}\n",
    "    \n",
    "pp = pprint.PrettyPrinter(indent=4)\n",
    "#pp.pprint(studyDictionary)\n",
    "    "
   ]
  },
  {
   "cell_type": "code",
   "execution_count": 11,
   "metadata": {},
   "outputs": [
    {
     "data": {
      "image/png": "[encoded data removed]",
      "text/plain": [
       "<Figure size 432x288 with 1 Axes>"
      ]
     },
     "metadata": {
      "needs_background": "light"
     },
     "output_type": "display_data"
    }
   ],
   "source": [
    "#plot the trajectories\n",
    "import matplotlib.pyplot as plt\n",
    "\n",
    "#use the West et al. equation to do the smooth curve (equation 5 from the paper)\n",
    "\n",
    "def ontogeneticModel(t, a, M, m0):\n",
    "    inner=a*t/(4*np.power(M,0.25))\n",
    "    return np.power(1-(1-np.power(m0/M,0.25))*np.exp(-inner),4)\n",
    "\n",
    "\n",
    "#define the fitted parameters from West et al. 2001\n",
    "fittedParameters = { \"Cow\": \n",
    "               {\n",
    "                   \"a\": 0.276,\n",
    "                    \"M\": 442000,\n",
    "                    \"m0\": 33333,\n",
    "                   \"marker\": 's'\n",
    "                   },\n",
    "           \"Hen\":\n",
    "               {\n",
    "                   \"a\": 0.47,\n",
    "                   \"m0\": 43,\n",
    "                   \"M\": 2100,\n",
    "                   \"marker\": 'o'\n",
    "               }\n",
    "}\n",
    "\n",
    "\n",
    "#define the trajectories that we wish to plot\n",
    "trajectoriesOfInterest=fittedParameters.keys()\n",
    "\n",
    "fig = plt.figure()\n",
    "\n",
    "for i in trajectoriesOfInterest:\n",
    "    plt.plot(studyDictionary[i]['time'], studyDictionary[i]['mass'] / fittedParameters[i]['M'],fittedParameters[i]['marker'],label=i)\n",
    "    # also create the smooth line\n",
    "    smoothline=[ontogeneticModel(time,fittedParameters[i]['a'],fittedParameters[i]['M'],fittedParameters[i]['m0']) for time in studyDictionary[i]['time']]\n",
    "    plt.plot(studyDictionary[i]['time'],smoothline)\n",
    "    \n",
    "#make the trajectory for yeast\n",
    "# yeast has a growth rate of 0.3 1/h per http://bionumbers.hms.harvard.edu/bionumber.aspx?&id=107949\n",
    "yeastGrowthRate=0.3 #units 1/h\n",
    "\n",
    "#we should use the same fold increase as done with the others. let's take the highest\n",
    "maxFoldChange = np.max([item[\"M\"]/item[\"m0\"] for item in fittedParameters.values()])\n",
    "\n",
    "#change to log space and make an array to \n",
    "logFoldRange=np.arange(1,np.log(maxFoldChange)+0.25,0.25)\n",
    "\n",
    "#we can now calculate the time change by dividing by the growth rate\n",
    "timeYeast=logFoldRange/yeastGrowthRate *1/24 #change the units to days\n",
    "\n",
    "#can now plot the yeast on the same graph\n",
    "plt.plot(timeYeast,np.exp(logFoldRange)/maxFoldChange,'^-',label=\"Yeast\")\n",
    "\n",
    "plt.ylabel('Mass of organism')\n",
    "plt.xlabel('Time (days)')\n",
    "plt.legend()\n",
    "\n",
    "fig.savefig('timeprofile.svg')\n",
    "plt.show()\n",
    "    "
   ]
  },
  {
   "cell_type": "code",
   "execution_count": 10,
   "metadata": {},
   "outputs": [
    {
     "data": {
      "image/png": "[encoded data removed]",
      "text/plain": [
       "<Figure size 432x288 with 1 Axes>"
      ]
     },
     "metadata": {
      "needs_background": "light"
     },
     "output_type": "display_data"
    }
   ],
   "source": [
    "#plot just yeast example\n",
    "fig = plt.figure()\n",
    "plt.plot(timeYeast,np.exp(logFoldRange)/maxFoldChange,'^-',label=\"Yeast\");\n",
    "\n",
    "fig.savefig('yeastonly.svg')"
   ]
  },
  {
   "cell_type": "markdown",
   "metadata": {},
   "source": []
  },
  {
   "cell_type": "code",
   "execution_count": null,
   "metadata": {},
   "outputs": [],
   "source": []
  }
 ],
 "metadata": {
  "kernelspec": {
   "display_name": "Python 3",
   "language": "python",
   "name": "python3"
  },
  "language_info": {
   "codemirror_mode": {
    "name": "ipython",
    "version": 3
   },
   "file_extension": ".py",
   "mimetype": "text/x-python",
   "name": "python",
   "nbconvert_exporter": "python",
   "pygments_lexer": "ipython3",
   "version": "3.7.4"
  }
 },
 "nbformat": 4,
 "nbformat_minor": 2
}
