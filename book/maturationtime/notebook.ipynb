{
 "cells": [
  {
   "cell_type": "markdown",
   "metadata": {},
   "source": [
    "# Calculating maturation times for different biological organisms\n",
    "\n",
    "\n",
    "## Introduction\n",
    "\n",
    "Here, we're calculating the normalized maturation time for different organisms. These calculations rely heavily on the model presented in G. B. West, J. H. Brown, and B. J. Enquist, ‘A General Model for Ontogenetic Growth’, Nature, 413.6856 (2001), 628–31\n",
    "\n"
   ]
  },
  {
   "cell_type": "code",
   "execution_count": 51,
   "metadata": {},
   "outputs": [],
   "source": [
    "import numpy as np\n",
    "\n",
    "def findMaturationTime(m0, a, M, threshold = 0.95):\n",
    "    masst = M*threshold\n",
    "    time = -4*np.power(M,0.25)/a*np.log(-1*(np.power(masst/M, 0.25) - 1) / (1-np.power(m0/M,0.25)))\n",
    "    return time\n",
    "\n",
    "def find_b(a,M):\n",
    "    b = a/np.power(M,0.25)\n",
    "    return b\n",
    "\n",
    "ratios = {}"
   ]
  },
  {
   "cell_type": "code",
   "execution_count": 52,
   "metadata": {},
   "outputs": [
    {
     "name": "stdout",
     "output_type": "stream",
     "text": [
      "[14.481906078958799, 15.550521997287674, 17.266647510158123, 15.900852745007136]\n"
     ]
    }
   ],
   "source": [
    "#for animals\n",
    "\n",
    "#from A general model for ontogenetic growth\n",
    "\n",
    "animals = { \"cow\": \n",
    "               {\n",
    "                   \"a\": 0.276,\n",
    "                    \"M\": 442000,\n",
    "                    \"m0\": 33333\n",
    "                   },\n",
    "           \"hen\":\n",
    "               {\n",
    "                   \"a\": 0.47,\n",
    "                   \"m0\": 43,\n",
    "                   \"M\": 2100\n",
    "               },\n",
    "           \"salmon\":\n",
    "               {\n",
    "                   \"a\": 0.026,\n",
    "                   \"m0\": 0.01,\n",
    "                   \"M\": 2400\n",
    "               },\n",
    "           \"shrimp\":\n",
    "               {\n",
    "                   \"a\": 0.027,\n",
    "                   \"m0\": 0.0008,\n",
    "                   \"M\": 0.075\n",
    "               }\n",
    "}\n",
    "\n",
    "ratios[\"animals\"] = []\n",
    "\n",
    "for animal in animals.keys():\n",
    "    time = findMaturationTime(animals[animal][\"m0\"],animals[animal][\"a\"],animals[animal][\"M\"])\n",
    "    b = find_b(animals[animal][\"a\"],animals[animal][\"M\"])\n",
    "    #print(animal + \": \" + str(time*b))\n",
    "    ratios[\"animals\"].append(time*b)\n",
    "\n",
    "print(ratios[\"animals\"])"
   ]
  },
  {
   "cell_type": "code",
   "execution_count": 53,
   "metadata": {},
   "outputs": [
    {
     "name": "stdout",
     "output_type": "stream",
     "text": [
      "[5.         1.53846154]\n"
     ]
    }
   ],
   "source": [
    "#for plants\n",
    "\n",
    "#from Carbon use efficiency depends on growth respiration, maintenance respiration, and relative growth rate. A case \n",
    "#study with lettuce. M. W. VAN IERSEL. Department of Horticulture, The University of Georgia, Athens, GA 30602, USA\n",
    "\n",
    "ratios[\"plants\"] = np.power(np.asarray([0.2, 0.65]),-1)\n",
    "\n",
    "print(ratios[\"plants\"])"
   ]
  },
  {
   "cell_type": "code",
   "execution_count": 54,
   "metadata": {},
   "outputs": [
    {
     "name": "stdout",
     "output_type": "stream",
     "text": [
      "[0.044320501967033514, 0.040834619789851104, 0.012636322892286242, 0.004558278628234392, 0.0036259034542773572, 0.09682875264270614, 0.14545454545454548, 0.024312896405919663, 0.09936575052854123, 0.08942917547568711, 0.08942917547568711, 0.021987315010570826, 0.1630021141649049, 0.0023678646934460887, 0.023044397463002114, 0.02177589852008457, 0.020380549682875265, 0.019006342494714588, 0.017272727272727273, 0.014947145877378436, 0.040380549682875265, 0.03213530655391121, 0.03213530655391121, 0.055391120507399576, 0.020338266384778016, 0.0331923890063425, 0.04947145877378436, 0.044820295983086685, 0.05412262156448203, 0.04312896405919662, 0.04101479915433404, 0.03911205073995772, 0.036786469344608885, 0.046723044397463005, 0.030866807610993658, 0.048202959830866816, 0.045243128964059194, 0.04334038054968287, 0.022621564482029597, 0.04143763213530655, 0.03911205073995772, 0.034883720930232565, 0.03340380549682875, 0.03530655391120508, 0.03572938689217759, 0.025581395348837212, 0.036786469344608885, 0.036786469344608885, 0.06997885835095138, 0.07505133470225873, 0.04804928131416838, 0.0723438222072848, 0.09578624543124815, 0.019577364197790197, 0.02184598580010923, 0.034533462168634205, 0.030080241986304247, 0.024366676469352606, 0.03319502074688797, 0.014246196403872754, 0.004821323201358605, 0.008395338907838367, 0.008755139146745727, 0.001993293323546767, 0.06740257808864518, 0.022283628129662413, 0.006164577426612744, 0.0031902287849785798, 0.008683179098964254, 0.03526042341292114, 0.04005775993168592, 0.04917269931733901, 0.0031935138130409105, 0.08704482808646452, 0.016200009671647562, 0.6077018553443913, 0.2974031626287538, 0.280477779389719, 0.29982107452004453, 0.2264777471508938, 0.2869255444331608, 0.02297016296726147, 0.025925925925925925, 0.01218965147348507, 0.015458333333333333, 0.028375, 0.027653815202282536, 0.023483795449557397, 0.2999487892311069, 0.016644295302013425, 0.05140939597315436, 0.09878787878787879, 0.021036144578313255, 0.163855421686747, 0.15903614457831328, 0.09542168674698796, 0.02602409638554217, 0.19253012048192772, 0.29638554216867474, 0.29156626506024097, 0.17349397590361446, 0.26746987951807233, 0.0468609865470852, 0.042152466367713005, 0.03542600896860986, 0.0789237668161435, 0.05605381165919283, 0.12197309417040358, 0.030402298850574716, 0.0810344827586207, 0.03704663212435233, 0.1319277108433735, 0.04142857142857143, 0.07959183673469389, 0.08128342245989305, 0.27096774193548384, 0.07650602409638553, 0.07228915662650602, 0.10903614457831326, 0.15481927710843374, 0.1497076023391813, 0.1018, 0.024878048780487803, 0.05292682926829268, 0.14829268292682926, 0.1663286004056795, 0.04623762376237624, 0.06244755244755244, 0.3125874125874126, 0.0839160839160839, 0.4167832167832167, 0.2841584158415842]\n"
     ]
    }
   ],
   "source": [
    "#for microbes\n",
    "\n",
    "#from Growth, metabwith open('eggs.csv', 'rb') as csvfile:\n",
    "import csv \n",
    "\n",
    "ratios[\"microbes\"] = []\n",
    "\n",
    "with open('microbes.csv', 'r') as csvfile:\n",
    "    spamreader = csv.reader(csvfile, delimiter=',')\n",
    "    for row in spamreader:\n",
    "        try:\n",
    "            ratio = float(row[8])/float(row[9]) #dividing b by the growth rate (effectively the inverse of maturation time)\n",
    "            ratios[\"microbes\"].append(ratio)\n",
    "        except ValueError:\n",
    "            continue\n",
    "\n",
    "print(ratios[\"microbes\"])"
   ]
  },
  {
   "cell_type": "code",
   "execution_count": 59,
   "metadata": {},
   "outputs": [
    {
     "name": "stdout",
     "output_type": "stream",
     "text": [
      "{'animals': [14.481906078958799, 17.266647510158123], 'plants': [1.5384615384615383, 5.0], 'microbes': [0.001993293323546767, 0.6077018553443913]}\n"
     ]
    }
   ],
   "source": [
    "#make the chart\n",
    "\n",
    "ranges = {key: [np.amin(item), np.amax(item)] for key,item in ratios.items()}\n",
    "print(ranges)\n",
    "\n"
   ]
  },
  {
   "cell_type": "code",
   "execution_count": 76,
   "metadata": {},
   "outputs": [
    {
     "name": "stderr",
     "output_type": "stream",
     "text": [
      "C:\\ProgramData\\Anaconda3\\lib\\site-packages\\matplotlib\\axes\\_base.py:1398: UserWarning: aspect is not supported for Axes with xscale=linear, yscale=log\n",
      "  'yscale=%s' % (xscale, yscale))\n"
     ]
    },
    {
     "data": {
      "image/png": "[encoded data removed]",
      "text/plain": [
       "<matplotlib.figure.Figure at 0x1617069e358>"
      ]
     },
     "metadata": {},
     "output_type": "display_data"
    }
   ],
   "source": [
    "import matplotlib.pyplot as plt\n",
    "import matplotlib.patches as patches\n",
    "\n",
    "fig1 = plt.figure()\n",
    "ax1 = fig1.add_subplot(111, aspect='equal')\n",
    "x=1\n",
    "for key,arange in ranges.items():\n",
    "    ax1.add_patch(\n",
    "        patches.Rectangle(\n",
    "            (x, arange[0]),   # (x,y)\n",
    "            0.5,          # width\n",
    "            arange[1]-arange[0],          # height\n",
    "        )\n",
    "    )\n",
    "    x=x+1\n",
    "\n",
    "ax1.set_xlim(0.5, 4)\n",
    "ax1.set_ylim(0.001, 20)\n",
    "ax1.set_yscale('log')\n",
    "plt.savefig('ratio.svg')\n",
    "plt.show(fig1)\n"
   ]
  },
  {
   "cell_type": "code",
   "execution_count": null,
   "metadata": {},
   "outputs": [],
   "source": []
  }
 ],
 "metadata": {
  "kernelspec": {
   "display_name": "Python 3",
   "language": "python",
   "name": "python3"
  },
  "language_info": {
   "codemirror_mode": {
    "name": "ipython",
    "version": 3
   },
   "file_extension": ".py",
   "mimetype": "text/x-python",
   "name": "python",
   "nbconvert_exporter": "python",
   "pygments_lexer": "ipython3",
   "version": "3.7.4"
  }
 },
 "nbformat": 4,
 "nbformat_minor": 2
}
