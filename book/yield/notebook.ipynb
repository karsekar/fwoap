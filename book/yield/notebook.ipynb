{
 "cells": [
  {
   "cell_type": "markdown",
   "metadata": {},
   "source": [
    "# Calculating the yield for animals under the ontogenetic model\n",
    "\n",
    "Note: many concepts are carried over from the [maturation time page](../maturationtime/notebook.ipynb). That may be helpful to examine first.\n",
    "\n",
    "We seek to calculate how much different organisms are allocating toward generating new cells versus for their maintenance.\n",
    "\n",
    "Again using the model West et al. (2001), we know that the incoming energy $B$ for each organism can be modeled with the ontogenetic scaling law:\n",
    "\n",
    "$B = B_0 m^{3/4}$ where $B_0$ is particular to a taxon\n",
    "\n",
    "The energy $E_m$ required to create new mass at a given time depends on the energy required to create a cell ($E_c$) and the total number of cells newly created ($\\frac{1}{m_c} \\frac{dm}{dt}$):\n",
    "\n",
    "$$E_m(t) = \\frac{E_c}{m_c}\\frac{dm}{dt}$$\n",
    "\n",
    "Dividing the energy to make mass versus the total consumed gets us at a yield equation $Y$\n",
    "\n",
    "$$Y(t) = \\frac{\\frac{E_c}{m_c}\\frac{dm}{dt}}{B_0 m^{3/4}}$$\n",
    "\n",
    "West et al. defines the $a$ parameter as the scale-free ratio of the maintenance requirement versus the requirement to produce new cells where $a=\\frac{B_0 m_c}{E_c}$. We can simplify the yield equation further:\n",
    "\n",
    "$$Y(t) = \\frac{\\frac{dm}{dt}}{a m^{3/4}}$$\n",
    "\n",
    "Now we can just plug equations (4) and (5) from West et al. 2001 and arrive to our final equation where the yield is calculable from the three parameters used above ($a$, $m_0$ - birth mass, and $M$ - maturity mass):\n",
    "\n",
    "$$Y(t) = \\left[ 1 - \\left( \\frac{m_0}{M} \\right)^{1/4} \\right]e^{-at/4M^{1/4}} $$\n",
    "\n",
    "To simplify further, we can substitute the dimensionless time $\\tau = \\frac{at}{4 M^{1/4}}-\\ln \\left[ 1- \\left( \\frac{m_0}{M} \\right)^{1/4} \\right]$:\n",
    "\n",
    "$$Y(\\tau) = e^{-\\tau} $$\n",
    "\n",
    "However, this is the yield at any given (dimensionless) time. Ultimately, what we want is the average yield $\\overline{Y}(t_m)$ for animals grown to maturity. Therefore, we must consider the weighted average because the mass changes over time. We use the mass function $m(\\tau)$ as the weight function :)\n",
    "\n",
    "$$\\overline{Y}(\\tau) = \\frac{\\int_0^{\\tau} m(\\tau) e^{-\\tau} d\\tau}{\\int_0^{\\tau} m(\\tau) d\\tau} $$\n",
    "\n",
    "From West et al, we have mass over dimensionless time:\n",
    "\n",
    "$$m(\\tau) = M \\left( 1 - e^{-\\tau} \\right)^4 $$\n",
    "\n",
    "\n",
    "Plug in to get our final equation:\n",
    "\n",
    "$$ \\overline{Y}(\\tau) = \\frac{\\int_0^{\\tau} M \\left( 1 - e^{-\\tau} \\right)^4 e^{-\\tau} d\\tau}{\\int_0^{\\tau} M \\left( 1 - e^{-\\tau} \\right)^4 d\\tau} $$\n",
    "\n",
    "The $M$ values fall out, and we can use our maturation time to calculate the average yield when bringing an organism to maturity ($\\tau_m = 3$):\n",
    "\n",
    "\n",
    "$$ \\overline{Y}(3) = \\frac{\\int_0^{3} \\left( 1 - e^{-\\tau} \\right)^4 e^{-\\tau} d\\tau}{\\int_0^{3} \\left( 1 - e^{-\\tau} \\right)^4 d\\tau} \\approx 0.14 $$"
   ]
  },
  {
   "cell_type": "code",
   "execution_count": 1,
   "metadata": {},
   "outputs": [
    {
     "name": "stdout",
     "output_type": "stream",
     "text": [
      "0.13975992085211314\n"
     ]
    }
   ],
   "source": [
    "import scipy.integrate as integrate\n",
    "import numpy as np\n",
    "\n",
    "#define our maturity time\n",
    "maturityTime=3\n",
    "\n",
    "#beause of the annoying way that integrate.quad works, we need to split the integrations\n",
    "resultNumerator = integrate.quad(lambda t: np.power((1-np.exp(-t)),4)*np.exp(-t), 0, maturityTime)[0]\n",
    "resultDenominator = integrate.quad(lambda t: np.power((1-np.exp(-t)),4), 0, maturityTime)[0]\n",
    "\n",
    "#calculate our final result\n",
    "print(resultNumerator/resultDenominator)"
   ]
  },
  {
   "cell_type": "code",
   "execution_count": null,
   "metadata": {},
   "outputs": [],
   "source": []
  }
 ],
 "metadata": {
  "kernelspec": {
   "display_name": "Python 3",
   "language": "python",
   "name": "python3"
  },
  "language_info": {
   "codemirror_mode": {
    "name": "ipython",
    "version": 3
   },
   "file_extension": ".py",
   "mimetype": "text/x-python",
   "name": "python",
   "nbconvert_exporter": "python",
   "pygments_lexer": "ipython3",
   "version": "3.7.4"
  }
 },
 "nbformat": 4,
 "nbformat_minor": 2
}
