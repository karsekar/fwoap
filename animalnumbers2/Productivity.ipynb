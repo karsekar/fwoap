{
 "cells": [
  {
   "cell_type": "markdown",
   "metadata": {},
   "source": [
    "#Animals by the Numbers 2 - Productivity (calculations)\n",
    "\n",
    "by Karthik Sekar\n",
    "\n",
    "## Introducton\n",
    "\n",
    "Herein are my calculations to calculate the maximum growth rate of animals so that they can be easily compared to other domains of life (e.g. plants, microorganisms).\n",
    "\n",
    "##Preliminary calculations\n",
    "\n",
    "For calculating the growth rate of animals that grow ontogenetically, we can use the equation from G. B. West, J. H. Brown, and B. J. Enquist, ‘A General Model for Ontogenetic Growth’, Nature, 413.6856 (2001), 628–31\n",
    "\n",
    "First start with the equation that describes ontogenetic growth (equation 4 from the paper):\n",
    "\n",
    "$\\frac{dm}{dt} =  am^{3/4} \\left[ 1 - \\left( \\frac{m}{M} \\right)^{1/4} \\right]$\n",
    "\n",
    "We can get the maximum growth rate, first by differentiating the above equation. Calculation from [here]\n",
    "\n",
    "\n",
    "$\\frac{d^{2}m}{dt^{2}} = \\frac{ a \\left( 4 (\\frac{m}{M})^{1/4} - 3 \\right) \\frac{dm}{dt}}{4 m^{1/4}}$\n",
    "\n",
    "Growth rate is maximum when the above equation is equal to 0. Examination suggest that we only have to worry about one term for that to occur, specifically, growth rate is maximum at the following condition:\n",
    "\n",
    "$0 = \\left( 4 (\\frac{m}{M})^{1/4} - 3 \\right) $\n",
    "\n",
    "Therefore, at the maximum growth rate, we can say the following:\n",
    "\n",
    "$(\\frac{m}{M})^{1/4} = 3/4$\n",
    "\n",
    "We can plug back into equation 4 from the paper and find that\n",
    "\n",
    "$\\frac{dm}{dt}_{max} = a \\left[ (3/4)^4 M \\right]^{3/4} (1-3/4) =  \\frac{27}{256} a M^{3/4}$\n",
    "\n",
    "Good! Almost there. Let's see if this makes sense. Plug in some values for cows and hens. Units are g per day per animal.\n",
    "\n"
   ]
  },
  {
   "cell_type": "code",
   "execution_count": 6,
   "metadata": {},
   "outputs": [
    {
     "name": "stdout",
     "output_type": "stream",
     "text": [
      "498.998893869\n",
      "16.1303173479\n"
     ]
    }
   ],
   "source": [
    "import numpy as np\n",
    "\n",
    "cow_mperday = 27/256*0.276 *np.power(442000,3/4)\n",
    "print(cow_mperday)\n",
    "\n",
    "hen_mperday = 27/256*0.502 *np.power(2050,3/4)\n",
    "print(hen_mperday)"
   ]
  },
  {
   "cell_type": "markdown",
   "metadata": {},
   "source": [
    "##Further refinements\n",
    "\n",
    "The numbers are sensical! We need to normalize by the initial mass of the organisms and convert to per hour (so that it's easy to relate to microbes). I'll use $\\mu$ for the growth rate. We finally end with the following:\n",
    "\n",
    "$\\mu = \\frac{27}{6144} \\frac{a M^{3/4}}{m_0} $\n",
    "\n",
    "This gives the *maximum* growth rate of any organism that grows ontogenetically. It relies on three parameters that are found in just about every ontogenetic growth paper (a, M, and m0). So how does this compare?\n",
    "\n",
    "##Cross comparison"
   ]
  }
 ],
 "metadata": {
  "kernelspec": {
   "display_name": "Python 3",
   "language": "python",
   "name": "python3"
  },
  "language_info": {
   "codemirror_mode": {
    "name": "ipython",
    "version": 3
   },
   "file_extension": ".py",
   "mimetype": "text/x-python",
   "name": "python",
   "nbconvert_exporter": "python",
   "pygments_lexer": "ipython3",
   "version": "3.6.3"
  }
 },
 "nbformat": 4,
 "nbformat_minor": 2
}
