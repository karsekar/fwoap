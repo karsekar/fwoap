{
 "cells": [
  {
   "cell_type": "markdown",
   "metadata": {},
   "source": [
    "#Animals by the Numbers 2 - Productivity (calculations)\n",
    "\n",
    "by Karthik Sekar\n",
    "\n",
    "## Introduction\n",
    "\n",
    "Herein are my calculations to calculate the maximum growth rate (biomass productivity) of animals so that they can be easily compared to other domains of life (e.g. plants, microorganisms).\n",
    "\n",
    "##Calculations to get ontogenetic growth rate\n",
    "\n",
    "For calculating the growth rate of animals that grow ontogenetically, we can use the equation from G. B. West, J. H. Brown, and B. J. Enquist, ‘A General Model for Ontogenetic Growth’, Nature, 413.6856 (2001), 628–31\n",
    "\n",
    "First start with the equation that describes ontogenetic growth rate (equation 4 from the paper):\n",
    "\n",
    "$\\frac{dm}{dt} =  am^{3/4} \\left[ 1 - \\left( \\frac{m}{M} \\right)^{1/4} \\right]$\n",
    "\n",
    "We can get the maximum growth rate, first by differentiating the above equation. Calculation from [here]\n",
    "\n",
    "\n",
    "$\\frac{d^{2}m}{dt^{2}} = \\frac{ a \\left( 4 (\\frac{m}{M})^{1/4} - 3 \\right) \\frac{dm}{dt}}{4 m^{1/4}}$\n",
    "\n",
    "Growth rate is maximum when the above equation is equal to 0. Examination suggest that we only have to worry about one term for that to occur, specifically, growth rate is maximum at the following condition:\n",
    "\n",
    "$0 = \\left( 4 (\\frac{m}{M})^{1/4} - 3 \\right) $\n",
    "\n",
    "Therefore, at the maximum growth rate, we can say the following:\n",
    "\n",
    "$(\\frac{m}{M})^{1/4} = 3/4$\n",
    "\n",
    "We can plug back into equation 4 from the paper and find that\n",
    "\n",
    "$\\frac{dm}{dt}_{max} = a \\left[ (3/4)^4 M \\right]^{3/4} (1-3/4) =  \\frac{27}{256} a M^{3/4}$\n",
    "\n",
    "Good! Almost there. Let's see if this makes sense. Plug in some values for cows and hens. Units are g per day per animal.\n",
    "\n"
   ]
  },
  {
   "cell_type": "code",
   "execution_count": 2,
   "metadata": {},
   "outputs": [
    {
     "name": "stdout",
     "output_type": "stream",
     "text": [
      "498.99889386949155\n",
      "16.130317347912634\n"
     ]
    }
   ],
   "source": [
    "import numpy as np\n",
    "\n",
    "cow_mperday = 27/256*0.276 *np.power(442000,3/4)\n",
    "print(cow_mperday)\n",
    "\n",
    "hen_mperday = 27/256*0.502 *np.power(2050,3/4)\n",
    "print(hen_mperday)"
   ]
  },
  {
   "cell_type": "markdown",
   "metadata": {},
   "source": [
    "##Further refinements\n",
    "\n",
    "The numbers are sensical! We need to normalize (divide) by the mass at maximum growth ($m = (3/4)^{4} M$) and convert to per hour (so that it's easy to relate to microbes). I'll use $\\mu$ for the maximum growth rate. We finally end with the following:\n",
    "\n",
    "$\\mu = \\frac{a}{72 M^{1/4}}  $\n",
    "\n",
    "This gives the *maximum* growth rate of any organism that grows ontogenetically. It relies on two parameters that are found in just about every ontogenetic growth paper (a, M). Let's see what this generates."
   ]
  },
  {
   "cell_type": "code",
   "execution_count": 11,
   "metadata": {},
   "outputs": [
    {
     "name": "stdout",
     "output_type": "stream",
     "text": [
      "cow: 0.00014866920473552433 per hour\n",
      "hen: 0.0009642963831353845 per hour\n",
      "salmon: 5.159267442511721e-05 per hour\n",
      "shrimp: 0.000716582094153275 per hour\n"
     ]
    }
   ],
   "source": [
    "def findMaxGR( a, M):\n",
    "    gr = 1/72 *a /np.power(M,1/4)\n",
    "    return gr\n",
    "\n",
    "animals = { \"cow\": \n",
    "               {\n",
    "                   \"a\": 0.276,\n",
    "                    \"M\": 442000,\n",
    "                    \"m0\": 33333\n",
    "                   },\n",
    "           \"hen\":\n",
    "               {\n",
    "                   \"a\": 0.47,\n",
    "                   \"m0\": 43,\n",
    "                   \"M\": 2100\n",
    "               },\n",
    "           \"salmon\":\n",
    "               {\n",
    "                   \"a\": 0.026,\n",
    "                   \"m0\": 0.01,\n",
    "                   \"M\": 2400\n",
    "               },\n",
    "           \"shrimp\":\n",
    "               {\n",
    "                   \"a\": 0.027,\n",
    "                   \"m0\": 0.0008,\n",
    "                   \"M\": 0.075\n",
    "               }\n",
    "}\n",
    "\n",
    "for animal in animals.keys():\n",
    "    print(animal + \": \" + str(findMaxGR(animals[animal][\"a\"] ,animals[animal][\"M\"] )) + \" per hour\")"
   ]
  },
  {
   "cell_type": "markdown",
   "metadata": {},
   "source": [
    "These numbers are, as I expected, very small. For comparison, I know that $\\mu$ for a bacteria like E. coli can be as high as 1 1/h\n",
    "\n",
    "##Cross comparison\n",
    "\n",
    "Ok, let's generate a figure that allows to see how we compare across biological domains. I have made a spreadsheet that has representative growth rates from different kingdoms:"
   ]
  },
  {
   "cell_type": "code",
   "execution_count": 41,
   "metadata": {},
   "outputs": [
    {
     "data": {
      "text/html": [
       "<div>\n",
       "<style scoped>\n",
       "    .dataframe tbody tr th:only-of-type {\n",
       "        vertical-align: middle;\n",
       "    }\n",
       "\n",
       "    .dataframe tbody tr th {\n",
       "        vertical-align: top;\n",
       "    }\n",
       "\n",
       "    .dataframe thead th {\n",
       "        text-align: right;\n",
       "    }\n",
       "</style>\n",
       "<table border=\"1\" class=\"dataframe\">\n",
       "  <thead>\n",
       "    <tr style=\"text-align: right;\">\n",
       "      <th></th>\n",
       "      <th>Organism</th>\n",
       "      <th>Growth Rate (1/h)</th>\n",
       "      <th>Reference</th>\n",
       "    </tr>\n",
       "    <tr>\n",
       "      <th>Short Name</th>\n",
       "      <th></th>\n",
       "      <th></th>\n",
       "      <th></th>\n",
       "    </tr>\n",
       "  </thead>\n",
       "  <tbody>\n",
       "    <tr>\n",
       "      <th>bacteria</th>\n",
       "      <td>Fast growing bacteria (e.g. E. coli)</td>\n",
       "      <td>1.000000</td>\n",
       "      <td>http://bionumbers.hms.harvard.edu/bionumber.as...</td>\n",
       "    </tr>\n",
       "    <tr>\n",
       "      <th>yeast</th>\n",
       "      <td>Yeast</td>\n",
       "      <td>0.300000</td>\n",
       "      <td>http://bionumbers.hms.harvard.edu/bionumber.as...</td>\n",
       "    </tr>\n",
       "    <tr>\n",
       "      <th>in vitro meat</th>\n",
       "      <td>Mammalian cells in vitro</td>\n",
       "      <td>0.030000</td>\n",
       "      <td>http://bionumbers.hms.harvard.edu/bionumber.as...</td>\n",
       "    </tr>\n",
       "    <tr>\n",
       "      <th>leafy</th>\n",
       "      <td>Plants (Arabidopsis - cabbage, mustard)</td>\n",
       "      <td>0.008333</td>\n",
       "      <td>http://bionumbers.hms.harvard.edu/bionumber.as...</td>\n",
       "    </tr>\n",
       "    <tr>\n",
       "      <th>chestnut</th>\n",
       "      <td>Chestnut tree</td>\n",
       "      <td>0.000029</td>\n",
       "      <td>http://www.chestnuthilloutdoors.com/store/pg/9...</td>\n",
       "    </tr>\n",
       "    <tr>\n",
       "      <th>almond</th>\n",
       "      <td>Almond tree</td>\n",
       "      <td>0.000019</td>\n",
       "      <td>http://homeguides.sfgate.com/almond-tree-growt...</td>\n",
       "    </tr>\n",
       "  </tbody>\n",
       "</table>\n",
       "</div>"
      ],
      "text/plain": [
       "                                              Organism  Growth Rate (1/h)  \\\n",
       "Short Name                                                                  \n",
       "bacteria          Fast growing bacteria (e.g. E. coli)           1.000000   \n",
       "yeast                                            Yeast           0.300000   \n",
       "in vitro meat                Mammalian cells in vitro            0.030000   \n",
       "leafy          Plants (Arabidopsis - cabbage, mustard)           0.008333   \n",
       "chestnut                                 Chestnut tree           0.000029   \n",
       "almond                                     Almond tree           0.000019   \n",
       "\n",
       "                                                       Reference  \n",
       "Short Name                                                        \n",
       "bacteria       http://bionumbers.hms.harvard.edu/bionumber.as...  \n",
       "yeast          http://bionumbers.hms.harvard.edu/bionumber.as...  \n",
       "in vitro meat  http://bionumbers.hms.harvard.edu/bionumber.as...  \n",
       "leafy          http://bionumbers.hms.harvard.edu/bionumber.as...  \n",
       "chestnut       http://www.chestnuthilloutdoors.com/store/pg/9...  \n",
       "almond         http://homeguides.sfgate.com/almond-tree-growt...  "
      ]
     },
     "metadata": {},
     "output_type": "display_data"
    }
   ],
   "source": [
    "import pandas as pd\n",
    "from IPython.display import display, HTML\n",
    "\n",
    "xl = pd.ExcelFile(\"growthrates.xlsx\")\n",
    "df = xl.parse(\"Sheet1\",index_col=0)\n",
    "display(df)"
   ]
  },
  {
   "cell_type": "code",
   "execution_count": 42,
   "metadata": {},
   "outputs": [
    {
     "data": {
      "image/png": "[encoded data removed]",
      "text/plain": [
       "<matplotlib.figure.Figure at 0x11a2dc56b00>"
      ]
     },
     "metadata": {},
     "output_type": "display_data"
    }
   ],
   "source": [
    "import matplotlib.pyplot as plt\n",
    "\n",
    "all_gr = {}\n",
    "for index, row in df.iterrows():\n",
    "    all_gr[index] = {\n",
    "        'growthrate': row['Growth Rate (1/h)'],\n",
    "        'description': row['Organism']\n",
    "    }\n",
    "\n",
    "for animal in animals.keys():\n",
    "    all_gr[animal] = {\n",
    "        'growthrate': findMaxGR(animals[animal][\"a\"] ,animals[animal][\"M\"] ),\n",
    "        'description': 'Animal flesh'\n",
    "    }\n",
    "\n",
    "\n",
    "y = []\n",
    "labels = []\n",
    "\n",
    "for item in all_gr.keys():\n",
    "    labels.append(item)\n",
    "    y.append(all_gr[item]['growthrate'])\n",
    "\n",
    "x = range(1,len(y)+1)\n",
    "\n",
    "plt.semilogy(x, y, 'ro')\n",
    "# You can specify a rotation for the tick labels in degrees or with keywords.\n",
    "plt.xticks(x, labels, rotation='vertical')\n",
    "# Pad margins so that markers don't get clipped by the axes\n",
    "plt.margins(0.2)\n",
    "# Tweak spacing to prevent clipping of tick-labels\n",
    "#plt.subplots_adjust(bottom=0.15)\n",
    "plt.show()"
   ]
  },
  {
   "cell_type": "code",
   "execution_count": null,
   "metadata": {},
   "outputs": [],
   "source": []
  }
 ],
 "metadata": {
  "kernelspec": {
   "display_name": "Python 3",
   "language": "python",
   "name": "python3"
  },
  "language_info": {
   "codemirror_mode": {
    "name": "ipython",
    "version": 3
   },
   "file_extension": ".py",
   "mimetype": "text/x-python",
   "name": "python",
   "nbconvert_exporter": "python",
   "pygments_lexer": "ipython3",
   "version": "3.6.4"
  }
 },
 "nbformat": 4,
 "nbformat_minor": 2
}
